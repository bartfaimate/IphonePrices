{
 "cells": [
  {
   "cell_type": "markdown",
   "metadata": {},
   "source": [
    "# Preprocess data\n",
    "\n",
    "* firstly load json files and get the necessary data\n",
    "* format data\n",
    "* add necessary columns (version, is_pro, capacity, color)\n",
    "* save the formatted data"
   ]
  },
  {
   "cell_type": "code",
   "execution_count": 1,
   "metadata": {},
   "outputs": [],
   "source": [
    "import json\n",
    "from pathlib import Path\n",
    "import datetime as dt\n",
    "import pandas as pd\n",
    "from functools import reduce\n"
   ]
  },
  {
   "cell_type": "code",
   "execution_count": 2,
   "metadata": {},
   "outputs": [],
   "source": [
    "def parse_file_name(file_name: str|Path):\n",
    "    file_name = file_name.stem if isinstance(file_name, Path) else Path(file_name).stem\n",
    "    name_parts = file_name.split(\"_\")\n",
    "    if len(name_parts) == 4:\n",
    "        version, pro, capacity, color = name_parts\n",
    "        is_pro = \"pro\" == pro\n",
    "    elif len(name_parts) == 3:\n",
    "        version, capacity, color = name_parts\n",
    "        is_pro=False\n",
    "    else:\n",
    "        raise RuntimeError(\"Wrong file name was given\")\n",
    "    return version, is_pro, capacity, color\n",
    "    \n",
    "\n"
   ]
  },
  {
   "cell_type": "code",
   "execution_count": 3,
   "metadata": {},
   "outputs": [
    {
     "name": "stdout",
     "output_type": "stream",
     "text": [
      "iphone16_pro_256_sand\n",
      "iphone16_pro_256_white\n",
      "iphone16_pro_256_nature\n",
      "iphone13_pro_256_green\n",
      "iphone16_pro_256_black\n",
      "iphone15_pro_256_blue\n",
      "iphone15_pro_256_white\n",
      "iphone15_pro_256_nature\n",
      "iphone15_pro_256_black\n",
      "iphone14_pro_256_silver\n",
      "iphone14_pro_256_black\n",
      "iphone14_pro_256_purple\n",
      "iphone15_256_green\n",
      "iphone15_256_blue\n",
      "iphone15_256_yellow\n",
      "iphone15_256_black\n",
      "iphone15_128_yellow\n",
      "iphone15_128_blue\n",
      "iphone15_128_black\n",
      "iphone15_128_green\n",
      "iphone14_256_yellow\n",
      "iphone14_256_polarstar\n",
      "iphone14_256_midnightblack\n",
      "iphone14_128_blue\n",
      "iphone14_128_violet\n",
      "iphone14_128_polarstar\n",
      "iphone14_256_blue\n",
      "iphone14_256_violet\n",
      "iphone14_128_midnightblack\n",
      "iphone14_128_yellow\n"
     ]
    }
   ],
   "source": [
    "base = \"datasets/iphone_prices\"\n",
    "dfs = []\n",
    "\n",
    "df_merged = pd.DataFrame()\n",
    "\n",
    "for file in Path(base).rglob(\"*.json\"):\n",
    "    print(file.stem)\n",
    "    file.name\n",
    "\n",
    "    with file.open(\"r\", encoding=\"utf-8\") as fp:\n",
    "        data= json.load(fp)\n",
    "    \n",
    "    df = pd.DataFrame(data[\"response\"], columns=[\"timestamp\", \"price\", \"foo\"])\n",
    "    version, is_pro, capacity, color = parse_file_name(file_name=file)\n",
    "    df[\"version\"] = version\n",
    "    df[\"is_pro\"] = is_pro\n",
    "    df[\"capacity\"] = capacity\n",
    "    df[\"color\"] = color\n",
    "    df = df.drop(columns=[\"foo\"])\n",
    "    # df = df[[\"timestamp\", \"price\"]]\n",
    "    df[\"timestamp\"] = df[\"timestamp\"].apply( lambda x: dt.datetime.fromtimestamp(x/1000))\n",
    "    df = df.copy().set_index(\"timestamp\")\n",
    "    df = df.sort_values(by=\"timestamp\")\n",
    "    # print(df.head(5))\n",
    "    \n",
    "    dfs.append(df)"
   ]
  },
  {
   "cell_type": "code",
   "execution_count": 4,
   "metadata": {},
   "outputs": [],
   "source": [
    "df_merged = pd.concat(dfs)\n",
    "df_merged = df_merged.sort_values(by=\"timestamp\")\n",
    "\n",
    "df_merged.to_csv(\"iphones_formatted.csv\")"
   ]
  }
 ],
 "metadata": {
  "kernelspec": {
   "display_name": "ds",
   "language": "python",
   "name": "python3"
  },
  "language_info": {
   "codemirror_mode": {
    "name": "ipython",
    "version": 3
   },
   "file_extension": ".py",
   "mimetype": "text/x-python",
   "name": "python",
   "nbconvert_exporter": "python",
   "pygments_lexer": "ipython3",
   "version": "3.13.0"
  }
 },
 "nbformat": 4,
 "nbformat_minor": 2
}
